{
  "nbformat": 4,
  "nbformat_minor": 0,
  "metadata": {
    "colab": {
      "name": "NN_GasTurbine.ipynb",
      "provenance": []
    },
    "kernelspec": {
      "name": "python3",
      "display_name": "Python 3"
    },
    "language_info": {
      "name": "python"
    }
  },
  "cells": [
    {
      "cell_type": "markdown",
      "metadata": {
        "id": "Xnuy1_IUAAoP"
      },
      "source": [
        "## Problem statement: predicting turbine energy yield (TEY) using ambient variables as features."
      ]
    },
    {
      "cell_type": "code",
      "metadata": {
        "id": "oPVXar2tACDV"
      },
      "source": [
        "import numpy as np\n",
        "import pandas as pd\n",
        "import matplotlib.pyplot as plt\n",
        "import seaborn as sns\n",
        "from sklearn.preprocessing import StandardScaler,MinMaxScaler\n",
        "from sklearn.model_selection import train_test_split\n",
        "import warnings\n",
        "warnings.filterwarnings('ignore')\n",
        "from sklearn.preprocessing import LabelEncoder\n",
        "from keras.models import Sequential\n",
        "from keras.layers import Dense, Activation,Layer,Lambda\n",
        "from sklearn.metrics import accuracy_score,r2_score"
      ],
      "execution_count": 34,
      "outputs": []
    },
    {
      "cell_type": "code",
      "metadata": {
        "colab": {
          "base_uri": "https://localhost:8080/",
          "height": 202
        },
        "id": "krIiTPmUAKdu",
        "outputId": "62efd5b2-3e79-4620-bcb6-b738e0b6b63f"
      },
      "source": [
        "df=pd.read_csv(\"/content/gas_turbines.csv\")\n",
        "df.head()"
      ],
      "execution_count": 2,
      "outputs": [
        {
          "output_type": "execute_result",
          "data": {
            "text/html": [
              "<div>\n",
              "<style scoped>\n",
              "    .dataframe tbody tr th:only-of-type {\n",
              "        vertical-align: middle;\n",
              "    }\n",
              "\n",
              "    .dataframe tbody tr th {\n",
              "        vertical-align: top;\n",
              "    }\n",
              "\n",
              "    .dataframe thead th {\n",
              "        text-align: right;\n",
              "    }\n",
              "</style>\n",
              "<table border=\"1\" class=\"dataframe\">\n",
              "  <thead>\n",
              "    <tr style=\"text-align: right;\">\n",
              "      <th></th>\n",
              "      <th>AT</th>\n",
              "      <th>AP</th>\n",
              "      <th>AH</th>\n",
              "      <th>AFDP</th>\n",
              "      <th>GTEP</th>\n",
              "      <th>TIT</th>\n",
              "      <th>TAT</th>\n",
              "      <th>TEY</th>\n",
              "      <th>CDP</th>\n",
              "      <th>CO</th>\n",
              "      <th>NOX</th>\n",
              "    </tr>\n",
              "  </thead>\n",
              "  <tbody>\n",
              "    <tr>\n",
              "      <th>0</th>\n",
              "      <td>6.8594</td>\n",
              "      <td>1007.9</td>\n",
              "      <td>96.799</td>\n",
              "      <td>3.5000</td>\n",
              "      <td>19.663</td>\n",
              "      <td>1059.2</td>\n",
              "      <td>550.00</td>\n",
              "      <td>114.70</td>\n",
              "      <td>10.605</td>\n",
              "      <td>3.1547</td>\n",
              "      <td>82.722</td>\n",
              "    </tr>\n",
              "    <tr>\n",
              "      <th>1</th>\n",
              "      <td>6.7850</td>\n",
              "      <td>1008.4</td>\n",
              "      <td>97.118</td>\n",
              "      <td>3.4998</td>\n",
              "      <td>19.728</td>\n",
              "      <td>1059.3</td>\n",
              "      <td>550.00</td>\n",
              "      <td>114.72</td>\n",
              "      <td>10.598</td>\n",
              "      <td>3.2363</td>\n",
              "      <td>82.776</td>\n",
              "    </tr>\n",
              "    <tr>\n",
              "      <th>2</th>\n",
              "      <td>6.8977</td>\n",
              "      <td>1008.8</td>\n",
              "      <td>95.939</td>\n",
              "      <td>3.4824</td>\n",
              "      <td>19.779</td>\n",
              "      <td>1059.4</td>\n",
              "      <td>549.87</td>\n",
              "      <td>114.71</td>\n",
              "      <td>10.601</td>\n",
              "      <td>3.2012</td>\n",
              "      <td>82.468</td>\n",
              "    </tr>\n",
              "    <tr>\n",
              "      <th>3</th>\n",
              "      <td>7.0569</td>\n",
              "      <td>1009.2</td>\n",
              "      <td>95.249</td>\n",
              "      <td>3.4805</td>\n",
              "      <td>19.792</td>\n",
              "      <td>1059.6</td>\n",
              "      <td>549.99</td>\n",
              "      <td>114.72</td>\n",
              "      <td>10.606</td>\n",
              "      <td>3.1923</td>\n",
              "      <td>82.670</td>\n",
              "    </tr>\n",
              "    <tr>\n",
              "      <th>4</th>\n",
              "      <td>7.3978</td>\n",
              "      <td>1009.7</td>\n",
              "      <td>95.150</td>\n",
              "      <td>3.4976</td>\n",
              "      <td>19.765</td>\n",
              "      <td>1059.7</td>\n",
              "      <td>549.98</td>\n",
              "      <td>114.72</td>\n",
              "      <td>10.612</td>\n",
              "      <td>3.2484</td>\n",
              "      <td>82.311</td>\n",
              "    </tr>\n",
              "  </tbody>\n",
              "</table>\n",
              "</div>"
            ],
            "text/plain": [
              "       AT      AP      AH    AFDP  ...     TEY     CDP      CO     NOX\n",
              "0  6.8594  1007.9  96.799  3.5000  ...  114.70  10.605  3.1547  82.722\n",
              "1  6.7850  1008.4  97.118  3.4998  ...  114.72  10.598  3.2363  82.776\n",
              "2  6.8977  1008.8  95.939  3.4824  ...  114.71  10.601  3.2012  82.468\n",
              "3  7.0569  1009.2  95.249  3.4805  ...  114.72  10.606  3.1923  82.670\n",
              "4  7.3978  1009.7  95.150  3.4976  ...  114.72  10.612  3.2484  82.311\n",
              "\n",
              "[5 rows x 11 columns]"
            ]
          },
          "metadata": {},
          "execution_count": 2
        }
      ]
    },
    {
      "cell_type": "code",
      "metadata": {
        "colab": {
          "base_uri": "https://localhost:8080/"
        },
        "id": "gKkFx6tyAZFa",
        "outputId": "3abe6cf4-0968-454c-a406-af9ee21eedab"
      },
      "source": [
        "df.shape"
      ],
      "execution_count": 3,
      "outputs": [
        {
          "output_type": "execute_result",
          "data": {
            "text/plain": [
              "(15039, 11)"
            ]
          },
          "metadata": {},
          "execution_count": 3
        }
      ]
    },
    {
      "cell_type": "code",
      "metadata": {
        "colab": {
          "base_uri": "https://localhost:8080/"
        },
        "id": "lmb9BrTyCoEc",
        "outputId": "b943df7f-fc83-4251-b67b-90731f8dd56f"
      },
      "source": [
        "df.duplicated().sum()"
      ],
      "execution_count": 4,
      "outputs": [
        {
          "output_type": "execute_result",
          "data": {
            "text/plain": [
              "0"
            ]
          },
          "metadata": {},
          "execution_count": 4
        }
      ]
    },
    {
      "cell_type": "code",
      "metadata": {
        "colab": {
          "base_uri": "https://localhost:8080/"
        },
        "id": "X9cLSNLLDCFF",
        "outputId": "c61ba2e8-7e78-4921-a211-66aba3151674"
      },
      "source": [
        "df.isnull().sum()"
      ],
      "execution_count": 5,
      "outputs": [
        {
          "output_type": "execute_result",
          "data": {
            "text/plain": [
              "AT      0\n",
              "AP      0\n",
              "AH      0\n",
              "AFDP    0\n",
              "GTEP    0\n",
              "TIT     0\n",
              "TAT     0\n",
              "TEY     0\n",
              "CDP     0\n",
              "CO      0\n",
              "NOX     0\n",
              "dtype: int64"
            ]
          },
          "metadata": {},
          "execution_count": 5
        }
      ]
    },
    {
      "cell_type": "code",
      "metadata": {
        "colab": {
          "base_uri": "https://localhost:8080/",
          "height": 385
        },
        "id": "gBDH7b_pDFPQ",
        "outputId": "830c0ef4-0036-4571-d11a-5b43f0cefeb6"
      },
      "source": [
        "df.describe().T"
      ],
      "execution_count": 6,
      "outputs": [
        {
          "output_type": "execute_result",
          "data": {
            "text/html": [
              "<div>\n",
              "<style scoped>\n",
              "    .dataframe tbody tr th:only-of-type {\n",
              "        vertical-align: middle;\n",
              "    }\n",
              "\n",
              "    .dataframe tbody tr th {\n",
              "        vertical-align: top;\n",
              "    }\n",
              "\n",
              "    .dataframe thead th {\n",
              "        text-align: right;\n",
              "    }\n",
              "</style>\n",
              "<table border=\"1\" class=\"dataframe\">\n",
              "  <thead>\n",
              "    <tr style=\"text-align: right;\">\n",
              "      <th></th>\n",
              "      <th>count</th>\n",
              "      <th>mean</th>\n",
              "      <th>std</th>\n",
              "      <th>min</th>\n",
              "      <th>25%</th>\n",
              "      <th>50%</th>\n",
              "      <th>75%</th>\n",
              "      <th>max</th>\n",
              "    </tr>\n",
              "  </thead>\n",
              "  <tbody>\n",
              "    <tr>\n",
              "      <th>AT</th>\n",
              "      <td>15039.0</td>\n",
              "      <td>17.764381</td>\n",
              "      <td>7.574323</td>\n",
              "      <td>0.522300</td>\n",
              "      <td>11.408000</td>\n",
              "      <td>18.1860</td>\n",
              "      <td>23.8625</td>\n",
              "      <td>34.9290</td>\n",
              "    </tr>\n",
              "    <tr>\n",
              "      <th>AP</th>\n",
              "      <td>15039.0</td>\n",
              "      <td>1013.199240</td>\n",
              "      <td>6.410760</td>\n",
              "      <td>985.850000</td>\n",
              "      <td>1008.900000</td>\n",
              "      <td>1012.8000</td>\n",
              "      <td>1016.9000</td>\n",
              "      <td>1034.2000</td>\n",
              "    </tr>\n",
              "    <tr>\n",
              "      <th>AH</th>\n",
              "      <td>15039.0</td>\n",
              "      <td>79.124174</td>\n",
              "      <td>13.793439</td>\n",
              "      <td>30.344000</td>\n",
              "      <td>69.750000</td>\n",
              "      <td>82.2660</td>\n",
              "      <td>90.0435</td>\n",
              "      <td>100.2000</td>\n",
              "    </tr>\n",
              "    <tr>\n",
              "      <th>AFDP</th>\n",
              "      <td>15039.0</td>\n",
              "      <td>4.200294</td>\n",
              "      <td>0.760197</td>\n",
              "      <td>2.087400</td>\n",
              "      <td>3.723900</td>\n",
              "      <td>4.1862</td>\n",
              "      <td>4.5509</td>\n",
              "      <td>7.6106</td>\n",
              "    </tr>\n",
              "    <tr>\n",
              "      <th>GTEP</th>\n",
              "      <td>15039.0</td>\n",
              "      <td>25.419061</td>\n",
              "      <td>4.173916</td>\n",
              "      <td>17.878000</td>\n",
              "      <td>23.294000</td>\n",
              "      <td>25.0820</td>\n",
              "      <td>27.1840</td>\n",
              "      <td>37.4020</td>\n",
              "    </tr>\n",
              "    <tr>\n",
              "      <th>TIT</th>\n",
              "      <td>15039.0</td>\n",
              "      <td>1083.798770</td>\n",
              "      <td>16.527806</td>\n",
              "      <td>1000.800000</td>\n",
              "      <td>1079.600000</td>\n",
              "      <td>1088.7000</td>\n",
              "      <td>1096.0000</td>\n",
              "      <td>1100.8000</td>\n",
              "    </tr>\n",
              "    <tr>\n",
              "      <th>TAT</th>\n",
              "      <td>15039.0</td>\n",
              "      <td>545.396183</td>\n",
              "      <td>7.866803</td>\n",
              "      <td>512.450000</td>\n",
              "      <td>542.170000</td>\n",
              "      <td>549.8900</td>\n",
              "      <td>550.0600</td>\n",
              "      <td>550.6100</td>\n",
              "    </tr>\n",
              "    <tr>\n",
              "      <th>TEY</th>\n",
              "      <td>15039.0</td>\n",
              "      <td>134.188464</td>\n",
              "      <td>15.829717</td>\n",
              "      <td>100.170000</td>\n",
              "      <td>127.985000</td>\n",
              "      <td>133.7800</td>\n",
              "      <td>140.8950</td>\n",
              "      <td>174.6100</td>\n",
              "    </tr>\n",
              "    <tr>\n",
              "      <th>CDP</th>\n",
              "      <td>15039.0</td>\n",
              "      <td>12.102353</td>\n",
              "      <td>1.103196</td>\n",
              "      <td>9.904400</td>\n",
              "      <td>11.622000</td>\n",
              "      <td>12.0250</td>\n",
              "      <td>12.5780</td>\n",
              "      <td>15.0810</td>\n",
              "    </tr>\n",
              "    <tr>\n",
              "      <th>CO</th>\n",
              "      <td>15039.0</td>\n",
              "      <td>1.972499</td>\n",
              "      <td>2.222206</td>\n",
              "      <td>0.000388</td>\n",
              "      <td>0.858055</td>\n",
              "      <td>1.3902</td>\n",
              "      <td>2.1604</td>\n",
              "      <td>44.1030</td>\n",
              "    </tr>\n",
              "    <tr>\n",
              "      <th>NOX</th>\n",
              "      <td>15039.0</td>\n",
              "      <td>68.190934</td>\n",
              "      <td>10.470586</td>\n",
              "      <td>27.765000</td>\n",
              "      <td>61.303500</td>\n",
              "      <td>66.6010</td>\n",
              "      <td>73.9355</td>\n",
              "      <td>119.8900</td>\n",
              "    </tr>\n",
              "  </tbody>\n",
              "</table>\n",
              "</div>"
            ],
            "text/plain": [
              "        count         mean        std  ...        50%        75%        max\n",
              "AT    15039.0    17.764381   7.574323  ...    18.1860    23.8625    34.9290\n",
              "AP    15039.0  1013.199240   6.410760  ...  1012.8000  1016.9000  1034.2000\n",
              "AH    15039.0    79.124174  13.793439  ...    82.2660    90.0435   100.2000\n",
              "AFDP  15039.0     4.200294   0.760197  ...     4.1862     4.5509     7.6106\n",
              "GTEP  15039.0    25.419061   4.173916  ...    25.0820    27.1840    37.4020\n",
              "TIT   15039.0  1083.798770  16.527806  ...  1088.7000  1096.0000  1100.8000\n",
              "TAT   15039.0   545.396183   7.866803  ...   549.8900   550.0600   550.6100\n",
              "TEY   15039.0   134.188464  15.829717  ...   133.7800   140.8950   174.6100\n",
              "CDP   15039.0    12.102353   1.103196  ...    12.0250    12.5780    15.0810\n",
              "CO    15039.0     1.972499   2.222206  ...     1.3902     2.1604    44.1030\n",
              "NOX   15039.0    68.190934  10.470586  ...    66.6010    73.9355   119.8900\n",
              "\n",
              "[11 rows x 8 columns]"
            ]
          },
          "metadata": {},
          "execution_count": 6
        }
      ]
    },
    {
      "cell_type": "code",
      "metadata": {
        "colab": {
          "base_uri": "https://localhost:8080/"
        },
        "id": "58r_C4hiFrHK",
        "outputId": "0fa81da4-00fc-4d6c-b128-97536096986f"
      },
      "source": [
        "df.info()"
      ],
      "execution_count": 19,
      "outputs": [
        {
          "output_type": "stream",
          "name": "stdout",
          "text": [
            "<class 'pandas.core.frame.DataFrame'>\n",
            "RangeIndex: 15039 entries, 0 to 15038\n",
            "Data columns (total 11 columns):\n",
            " #   Column  Non-Null Count  Dtype  \n",
            "---  ------  --------------  -----  \n",
            " 0   AT      15039 non-null  float64\n",
            " 1   AP      15039 non-null  float64\n",
            " 2   AH      15039 non-null  float64\n",
            " 3   AFDP    15039 non-null  float64\n",
            " 4   GTEP    15039 non-null  float64\n",
            " 5   TIT     15039 non-null  float64\n",
            " 6   TAT     15039 non-null  float64\n",
            " 7   TEY     15039 non-null  float64\n",
            " 8   CDP     15039 non-null  float64\n",
            " 9   CO      15039 non-null  float64\n",
            " 10  NOX     15039 non-null  float64\n",
            "dtypes: float64(11)\n",
            "memory usage: 1.3 MB\n"
          ]
        }
      ]
    },
    {
      "cell_type": "code",
      "metadata": {
        "colab": {
          "base_uri": "https://localhost:8080/",
          "height": 334
        },
        "id": "qqyZWfr1DMe4",
        "outputId": "436d52f3-c739-4a80-eab6-b5a761dac2fc"
      },
      "source": [
        "plt.figure(figsize=(8,5))\n",
        "sns.boxplot(df.TEY)\n",
        "plt.show()"
      ],
      "execution_count": 7,
      "outputs": [
        {
          "output_type": "display_data",
          "data": {
            "image/png": "[encoded data removed]",
            "text/plain": [
              "<Figure size 576x360 with 1 Axes>"
            ]
          },
          "metadata": {
            "needs_background": "light"
          }
        }
      ]
    },
    {
      "cell_type": "code",
      "metadata": {
        "colab": {
          "base_uri": "https://localhost:8080/",
          "height": 370
        },
        "id": "ETuu4whwDblI",
        "outputId": "eed62533-acb0-479c-dc8c-b6c95284cef9"
      },
      "source": [
        "plt.figure(figsize=(16,5))\n",
        "print(\"Skew: {}\".format(df['TEY'].skew()))\n",
        "print(\"Kurtosis: {}\".format(df['TEY'].kurtosis()))\n",
        "ax = sns.kdeplot(df['TEY'],shade=True,color='g')\n",
        "plt.xticks([i for i in range(0,250,20)])\n",
        "plt.show()"
      ],
      "execution_count": 8,
      "outputs": [
        {
          "output_type": "stream",
          "name": "stdout",
          "text": [
            "Skew: 0.14596270190452942\n",
            "Kurtosis: -0.4870582497451621\n"
          ]
        },
        {
          "output_type": "display_data",
          "data": {
            "image/png": "[encoded data removed]",
            "text/plain": [
              "<Figure size 1152x360 with 1 Axes>"
            ]
          },
          "metadata": {
            "needs_background": "light"
          }
        }
      ]
    },
    {
      "cell_type": "code",
      "metadata": {
        "colab": {
          "base_uri": "https://localhost:8080/",
          "height": 385
        },
        "id": "oSfZ4zogD1wJ",
        "outputId": "44ca661c-ef1d-4949-9c41-a52ded98b929"
      },
      "source": [
        "df.corr()"
      ],
      "execution_count": 9,
      "outputs": [
        {
          "output_type": "execute_result",
          "data": {
            "text/html": [
              "<div>\n",
              "<style scoped>\n",
              "    .dataframe tbody tr th:only-of-type {\n",
              "        vertical-align: middle;\n",
              "    }\n",
              "\n",
              "    .dataframe tbody tr th {\n",
              "        vertical-align: top;\n",
              "    }\n",
              "\n",
              "    .dataframe thead th {\n",
              "        text-align: right;\n",
              "    }\n",
              "</style>\n",
              "<table border=\"1\" class=\"dataframe\">\n",
              "  <thead>\n",
              "    <tr style=\"text-align: right;\">\n",
              "      <th></th>\n",
              "      <th>AT</th>\n",
              "      <th>AP</th>\n",
              "      <th>AH</th>\n",
              "      <th>AFDP</th>\n",
              "      <th>GTEP</th>\n",
              "      <th>TIT</th>\n",
              "      <th>TAT</th>\n",
              "      <th>TEY</th>\n",
              "      <th>CDP</th>\n",
              "      <th>CO</th>\n",
              "      <th>NOX</th>\n",
              "    </tr>\n",
              "  </thead>\n",
              "  <tbody>\n",
              "    <tr>\n",
              "      <th>AT</th>\n",
              "      <td>1.000000</td>\n",
              "      <td>-0.412953</td>\n",
              "      <td>-0.549432</td>\n",
              "      <td>-0.099333</td>\n",
              "      <td>-0.049103</td>\n",
              "      <td>0.093067</td>\n",
              "      <td>0.338569</td>\n",
              "      <td>-0.207495</td>\n",
              "      <td>-0.100705</td>\n",
              "      <td>-0.088588</td>\n",
              "      <td>-0.600006</td>\n",
              "    </tr>\n",
              "    <tr>\n",
              "      <th>AP</th>\n",
              "      <td>-0.412953</td>\n",
              "      <td>1.000000</td>\n",
              "      <td>0.042573</td>\n",
              "      <td>0.040318</td>\n",
              "      <td>0.078575</td>\n",
              "      <td>0.029650</td>\n",
              "      <td>-0.223479</td>\n",
              "      <td>0.146939</td>\n",
              "      <td>0.131198</td>\n",
              "      <td>0.041614</td>\n",
              "      <td>0.256744</td>\n",
              "    </tr>\n",
              "    <tr>\n",
              "      <th>AH</th>\n",
              "      <td>-0.549432</td>\n",
              "      <td>0.042573</td>\n",
              "      <td>1.000000</td>\n",
              "      <td>-0.119249</td>\n",
              "      <td>-0.202784</td>\n",
              "      <td>-0.247781</td>\n",
              "      <td>0.010859</td>\n",
              "      <td>-0.110272</td>\n",
              "      <td>-0.182010</td>\n",
              "      <td>0.165505</td>\n",
              "      <td>0.143061</td>\n",
              "    </tr>\n",
              "    <tr>\n",
              "      <th>AFDP</th>\n",
              "      <td>-0.099333</td>\n",
              "      <td>0.040318</td>\n",
              "      <td>-0.119249</td>\n",
              "      <td>1.000000</td>\n",
              "      <td>0.744251</td>\n",
              "      <td>0.627254</td>\n",
              "      <td>-0.571541</td>\n",
              "      <td>0.717995</td>\n",
              "      <td>0.727152</td>\n",
              "      <td>-0.334207</td>\n",
              "      <td>-0.037299</td>\n",
              "    </tr>\n",
              "    <tr>\n",
              "      <th>GTEP</th>\n",
              "      <td>-0.049103</td>\n",
              "      <td>0.078575</td>\n",
              "      <td>-0.202784</td>\n",
              "      <td>0.744251</td>\n",
              "      <td>1.000000</td>\n",
              "      <td>0.874526</td>\n",
              "      <td>-0.756884</td>\n",
              "      <td>0.977042</td>\n",
              "      <td>0.993784</td>\n",
              "      <td>-0.508259</td>\n",
              "      <td>-0.208496</td>\n",
              "    </tr>\n",
              "    <tr>\n",
              "      <th>TIT</th>\n",
              "      <td>0.093067</td>\n",
              "      <td>0.029650</td>\n",
              "      <td>-0.247781</td>\n",
              "      <td>0.627254</td>\n",
              "      <td>0.874526</td>\n",
              "      <td>1.000000</td>\n",
              "      <td>-0.357320</td>\n",
              "      <td>0.891587</td>\n",
              "      <td>0.887238</td>\n",
              "      <td>-0.688272</td>\n",
              "      <td>-0.231636</td>\n",
              "    </tr>\n",
              "    <tr>\n",
              "      <th>TAT</th>\n",
              "      <td>0.338569</td>\n",
              "      <td>-0.223479</td>\n",
              "      <td>0.010859</td>\n",
              "      <td>-0.571541</td>\n",
              "      <td>-0.756884</td>\n",
              "      <td>-0.357320</td>\n",
              "      <td>1.000000</td>\n",
              "      <td>-0.720356</td>\n",
              "      <td>-0.744740</td>\n",
              "      <td>0.063404</td>\n",
              "      <td>0.009888</td>\n",
              "    </tr>\n",
              "    <tr>\n",
              "      <th>TEY</th>\n",
              "      <td>-0.207495</td>\n",
              "      <td>0.146939</td>\n",
              "      <td>-0.110272</td>\n",
              "      <td>0.717995</td>\n",
              "      <td>0.977042</td>\n",
              "      <td>0.891587</td>\n",
              "      <td>-0.720356</td>\n",
              "      <td>1.000000</td>\n",
              "      <td>0.988473</td>\n",
              "      <td>-0.541751</td>\n",
              "      <td>-0.102631</td>\n",
              "    </tr>\n",
              "    <tr>\n",
              "      <th>CDP</th>\n",
              "      <td>-0.100705</td>\n",
              "      <td>0.131198</td>\n",
              "      <td>-0.182010</td>\n",
              "      <td>0.727152</td>\n",
              "      <td>0.993784</td>\n",
              "      <td>0.887238</td>\n",
              "      <td>-0.744740</td>\n",
              "      <td>0.988473</td>\n",
              "      <td>1.000000</td>\n",
              "      <td>-0.520783</td>\n",
              "      <td>-0.169103</td>\n",
              "    </tr>\n",
              "    <tr>\n",
              "      <th>CO</th>\n",
              "      <td>-0.088588</td>\n",
              "      <td>0.041614</td>\n",
              "      <td>0.165505</td>\n",
              "      <td>-0.334207</td>\n",
              "      <td>-0.508259</td>\n",
              "      <td>-0.688272</td>\n",
              "      <td>0.063404</td>\n",
              "      <td>-0.541751</td>\n",
              "      <td>-0.520783</td>\n",
              "      <td>1.000000</td>\n",
              "      <td>0.316743</td>\n",
              "    </tr>\n",
              "    <tr>\n",
              "      <th>NOX</th>\n",
              "      <td>-0.600006</td>\n",
              "      <td>0.256744</td>\n",
              "      <td>0.143061</td>\n",
              "      <td>-0.037299</td>\n",
              "      <td>-0.208496</td>\n",
              "      <td>-0.231636</td>\n",
              "      <td>0.009888</td>\n",
              "      <td>-0.102631</td>\n",
              "      <td>-0.169103</td>\n",
              "      <td>0.316743</td>\n",
              "      <td>1.000000</td>\n",
              "    </tr>\n",
              "  </tbody>\n",
              "</table>\n",
              "</div>"
            ],
            "text/plain": [
              "            AT        AP        AH  ...       CDP        CO       NOX\n",
              "AT    1.000000 -0.412953 -0.549432  ... -0.100705 -0.088588 -0.600006\n",
              "AP   -0.412953  1.000000  0.042573  ...  0.131198  0.041614  0.256744\n",
              "AH   -0.549432  0.042573  1.000000  ... -0.182010  0.165505  0.143061\n",
              "AFDP -0.099333  0.040318 -0.119249  ...  0.727152 -0.334207 -0.037299\n",
              "GTEP -0.049103  0.078575 -0.202784  ...  0.993784 -0.508259 -0.208496\n",
              "TIT   0.093067  0.029650 -0.247781  ...  0.887238 -0.688272 -0.231636\n",
              "TAT   0.338569 -0.223479  0.010859  ... -0.744740  0.063404  0.009888\n",
              "TEY  -0.207495  0.146939 -0.110272  ...  0.988473 -0.541751 -0.102631\n",
              "CDP  -0.100705  0.131198 -0.182010  ...  1.000000 -0.520783 -0.169103\n",
              "CO   -0.088588  0.041614  0.165505  ... -0.520783  1.000000  0.316743\n",
              "NOX  -0.600006  0.256744  0.143061  ... -0.169103  0.316743  1.000000\n",
              "\n",
              "[11 rows x 11 columns]"
            ]
          },
          "metadata": {},
          "execution_count": 9
        }
      ]
    },
    {
      "cell_type": "code",
      "metadata": {
        "id": "HndebnTsEAVn"
      },
      "source": [
        "X=df.iloc[:,df.columns != 'TEY']\n",
        "y=df['TEY']"
      ],
      "execution_count": 10,
      "outputs": []
    },
    {
      "cell_type": "code",
      "metadata": {
        "colab": {
          "base_uri": "https://localhost:8080/",
          "height": 202
        },
        "id": "Jvaio_WKEQbN",
        "outputId": "cbe7f367-7337-470c-a034-f09249aff23f"
      },
      "source": [
        "X.head()"
      ],
      "execution_count": 11,
      "outputs": [
        {
          "output_type": "execute_result",
          "data": {
            "text/html": [
              "<div>\n",
              "<style scoped>\n",
              "    .dataframe tbody tr th:only-of-type {\n",
              "        vertical-align: middle;\n",
              "    }\n",
              "\n",
              "    .dataframe tbody tr th {\n",
              "        vertical-align: top;\n",
              "    }\n",
              "\n",
              "    .dataframe thead th {\n",
              "        text-align: right;\n",
              "    }\n",
              "</style>\n",
              "<table border=\"1\" class=\"dataframe\">\n",
              "  <thead>\n",
              "    <tr style=\"text-align: right;\">\n",
              "      <th></th>\n",
              "      <th>AT</th>\n",
              "      <th>AP</th>\n",
              "      <th>AH</th>\n",
              "      <th>AFDP</th>\n",
              "      <th>GTEP</th>\n",
              "      <th>TIT</th>\n",
              "      <th>TAT</th>\n",
              "      <th>CDP</th>\n",
              "      <th>CO</th>\n",
              "      <th>NOX</th>\n",
              "    </tr>\n",
              "  </thead>\n",
              "  <tbody>\n",
              "    <tr>\n",
              "      <th>0</th>\n",
              "      <td>6.8594</td>\n",
              "      <td>1007.9</td>\n",
              "      <td>96.799</td>\n",
              "      <td>3.5000</td>\n",
              "      <td>19.663</td>\n",
              "      <td>1059.2</td>\n",
              "      <td>550.00</td>\n",
              "      <td>10.605</td>\n",
              "      <td>3.1547</td>\n",
              "      <td>82.722</td>\n",
              "    </tr>\n",
              "    <tr>\n",
              "      <th>1</th>\n",
              "      <td>6.7850</td>\n",
              "      <td>1008.4</td>\n",
              "      <td>97.118</td>\n",
              "      <td>3.4998</td>\n",
              "      <td>19.728</td>\n",
              "      <td>1059.3</td>\n",
              "      <td>550.00</td>\n",
              "      <td>10.598</td>\n",
              "      <td>3.2363</td>\n",
              "      <td>82.776</td>\n",
              "    </tr>\n",
              "    <tr>\n",
              "      <th>2</th>\n",
              "      <td>6.8977</td>\n",
              "      <td>1008.8</td>\n",
              "      <td>95.939</td>\n",
              "      <td>3.4824</td>\n",
              "      <td>19.779</td>\n",
              "      <td>1059.4</td>\n",
              "      <td>549.87</td>\n",
              "      <td>10.601</td>\n",
              "      <td>3.2012</td>\n",
              "      <td>82.468</td>\n",
              "    </tr>\n",
              "    <tr>\n",
              "      <th>3</th>\n",
              "      <td>7.0569</td>\n",
              "      <td>1009.2</td>\n",
              "      <td>95.249</td>\n",
              "      <td>3.4805</td>\n",
              "      <td>19.792</td>\n",
              "      <td>1059.6</td>\n",
              "      <td>549.99</td>\n",
              "      <td>10.606</td>\n",
              "      <td>3.1923</td>\n",
              "      <td>82.670</td>\n",
              "    </tr>\n",
              "    <tr>\n",
              "      <th>4</th>\n",
              "      <td>7.3978</td>\n",
              "      <td>1009.7</td>\n",
              "      <td>95.150</td>\n",
              "      <td>3.4976</td>\n",
              "      <td>19.765</td>\n",
              "      <td>1059.7</td>\n",
              "      <td>549.98</td>\n",
              "      <td>10.612</td>\n",
              "      <td>3.2484</td>\n",
              "      <td>82.311</td>\n",
              "    </tr>\n",
              "  </tbody>\n",
              "</table>\n",
              "</div>"
            ],
            "text/plain": [
              "       AT      AP      AH    AFDP  ...     TAT     CDP      CO     NOX\n",
              "0  6.8594  1007.9  96.799  3.5000  ...  550.00  10.605  3.1547  82.722\n",
              "1  6.7850  1008.4  97.118  3.4998  ...  550.00  10.598  3.2363  82.776\n",
              "2  6.8977  1008.8  95.939  3.4824  ...  549.87  10.601  3.2012  82.468\n",
              "3  7.0569  1009.2  95.249  3.4805  ...  549.99  10.606  3.1923  82.670\n",
              "4  7.3978  1009.7  95.150  3.4976  ...  549.98  10.612  3.2484  82.311\n",
              "\n",
              "[5 rows x 10 columns]"
            ]
          },
          "metadata": {},
          "execution_count": 11
        }
      ]
    },
    {
      "cell_type": "code",
      "metadata": {
        "id": "aA3NgrbaESSU"
      },
      "source": [
        "X=StandardScaler().fit_transform(X)"
      ],
      "execution_count": 14,
      "outputs": []
    },
    {
      "cell_type": "code",
      "metadata": {
        "id": "eVJ51ztXEU8E"
      },
      "source": [
        "X_train,X_test,y_train,y_test= train_test_split(X,y,test_size=0.2,random_state=0)"
      ],
      "execution_count": 22,
      "outputs": []
    },
    {
      "cell_type": "code",
      "metadata": {
        "id": "iY08hEfSEvcr"
      },
      "source": [
        "model = Sequential()\n",
        "model.add(Dense(12, input_dim=10, activation='relu'))\n",
        "model.add(Dense(8, activation='relu'))\n",
        "model.add(Dense(1, activation='linear'))"
      ],
      "execution_count": 26,
      "outputs": []
    },
    {
      "cell_type": "code",
      "metadata": {
        "id": "MalKA9wBFbJg"
      },
      "source": [
        "model.compile(loss='mean_squared_error', optimizer='adam', metrics=['accuracy'])"
      ],
      "execution_count": 30,
      "outputs": []
    },
    {
      "cell_type": "code",
      "metadata": {
        "colab": {
          "base_uri": "https://localhost:8080/"
        },
        "id": "oJrb4XnwF5am",
        "outputId": "1953cc92-4b51-424f-dcb7-fd255cba2188"
      },
      "source": [
        "model.fit(X_train,y_train,epochs = 35 ,batch_size=32,validation_split=0.1)"
      ],
      "execution_count": 31,
      "outputs": [
        {
          "output_type": "stream",
          "name": "stdout",
          "text": [
            "Epoch 1/35\n",
            "339/339 [==============================] - 1s 2ms/step - loss: 16737.4668 - accuracy: 0.0000e+00 - val_loss: 12799.8516 - val_accuracy: 0.0000e+00\n",
            "Epoch 2/35\n",
            "339/339 [==============================] - 1s 1ms/step - loss: 6085.4985 - accuracy: 0.0000e+00 - val_loss: 2020.4288 - val_accuracy: 0.0000e+00\n",
            "Epoch 3/35\n",
            "339/339 [==============================] - 0s 1ms/step - loss: 1187.8022 - accuracy: 0.0000e+00 - val_loss: 665.3304 - val_accuracy: 0.0000e+00\n",
            "Epoch 4/35\n",
            "339/339 [==============================] - 1s 1ms/step - loss: 509.9772 - accuracy: 0.0000e+00 - val_loss: 365.0042 - val_accuracy: 0.0000e+00\n",
            "Epoch 5/35\n",
            "339/339 [==============================] - 1s 2ms/step - loss: 312.9891 - accuracy: 0.0000e+00 - val_loss: 250.3310 - val_accuracy: 0.0000e+00\n",
            "Epoch 6/35\n",
            "339/339 [==============================] - 0s 1ms/step - loss: 223.3955 - accuracy: 0.0000e+00 - val_loss: 186.3759 - val_accuracy: 0.0000e+00\n",
            "Epoch 7/35\n",
            "339/339 [==============================] - 0s 1ms/step - loss: 171.2712 - accuracy: 0.0000e+00 - val_loss: 144.4785 - val_accuracy: 0.0000e+00\n",
            "Epoch 8/35\n",
            "339/339 [==============================] - 0s 1ms/step - loss: 135.5420 - accuracy: 0.0000e+00 - val_loss: 114.9275 - val_accuracy: 0.0000e+00\n",
            "Epoch 9/35\n",
            "339/339 [==============================] - 1s 2ms/step - loss: 110.0094 - accuracy: 0.0000e+00 - val_loss: 94.3461 - val_accuracy: 0.0000e+00\n",
            "Epoch 10/35\n",
            "339/339 [==============================] - 0s 1ms/step - loss: 90.8879 - accuracy: 0.0000e+00 - val_loss: 78.4357 - val_accuracy: 0.0000e+00\n",
            "Epoch 11/35\n",
            "339/339 [==============================] - 0s 1ms/step - loss: 76.1280 - accuracy: 0.0000e+00 - val_loss: 66.9208 - val_accuracy: 0.0000e+00\n",
            "Epoch 12/35\n",
            "339/339 [==============================] - 0s 1ms/step - loss: 64.3274 - accuracy: 0.0000e+00 - val_loss: 56.4748 - val_accuracy: 0.0000e+00\n",
            "Epoch 13/35\n",
            "339/339 [==============================] - 1s 1ms/step - loss: 53.8924 - accuracy: 0.0000e+00 - val_loss: 47.6059 - val_accuracy: 0.0000e+00\n",
            "Epoch 14/35\n",
            "339/339 [==============================] - 1s 1ms/step - loss: 44.6876 - accuracy: 0.0000e+00 - val_loss: 39.8327 - val_accuracy: 0.0000e+00\n",
            "Epoch 15/35\n",
            "339/339 [==============================] - 0s 1ms/step - loss: 36.2687 - accuracy: 0.0000e+00 - val_loss: 32.0126 - val_accuracy: 0.0000e+00\n",
            "Epoch 16/35\n",
            "339/339 [==============================] - 0s 1ms/step - loss: 28.9824 - accuracy: 0.0000e+00 - val_loss: 25.6706 - val_accuracy: 0.0000e+00\n",
            "Epoch 17/35\n",
            "339/339 [==============================] - 0s 1ms/step - loss: 23.3683 - accuracy: 0.0000e+00 - val_loss: 21.1016 - val_accuracy: 0.0000e+00\n",
            "Epoch 18/35\n",
            "339/339 [==============================] - 1s 2ms/step - loss: 19.0116 - accuracy: 0.0000e+00 - val_loss: 16.9173 - val_accuracy: 0.0000e+00\n",
            "Epoch 19/35\n",
            "339/339 [==============================] - 1s 2ms/step - loss: 15.2496 - accuracy: 0.0000e+00 - val_loss: 13.6163 - val_accuracy: 0.0000e+00\n",
            "Epoch 20/35\n",
            "339/339 [==============================] - 1s 1ms/step - loss: 12.0104 - accuracy: 0.0000e+00 - val_loss: 10.4368 - val_accuracy: 0.0000e+00\n",
            "Epoch 21/35\n",
            "339/339 [==============================] - 1s 2ms/step - loss: 9.1857 - accuracy: 0.0000e+00 - val_loss: 7.6089 - val_accuracy: 0.0000e+00\n",
            "Epoch 22/35\n",
            "339/339 [==============================] - 1s 2ms/step - loss: 7.0981 - accuracy: 0.0000e+00 - val_loss: 5.9720 - val_accuracy: 0.0000e+00\n",
            "Epoch 23/35\n",
            "339/339 [==============================] - 1s 2ms/step - loss: 5.5669 - accuracy: 0.0000e+00 - val_loss: 4.6563 - val_accuracy: 0.0000e+00\n",
            "Epoch 24/35\n",
            "339/339 [==============================] - 1s 2ms/step - loss: 4.4271 - accuracy: 0.0000e+00 - val_loss: 3.7110 - val_accuracy: 0.0000e+00\n",
            "Epoch 25/35\n",
            "339/339 [==============================] - 1s 2ms/step - loss: 3.6467 - accuracy: 0.0000e+00 - val_loss: 3.0561 - val_accuracy: 0.0000e+00\n",
            "Epoch 26/35\n",
            "339/339 [==============================] - 0s 1ms/step - loss: 2.9609 - accuracy: 0.0000e+00 - val_loss: 2.6055 - val_accuracy: 0.0000e+00\n",
            "Epoch 27/35\n",
            "339/339 [==============================] - 1s 1ms/step - loss: 2.4767 - accuracy: 0.0000e+00 - val_loss: 2.1703 - val_accuracy: 0.0000e+00\n",
            "Epoch 28/35\n",
            "339/339 [==============================] - 0s 1ms/step - loss: 2.0426 - accuracy: 0.0000e+00 - val_loss: 1.8211 - val_accuracy: 0.0000e+00\n",
            "Epoch 29/35\n",
            "339/339 [==============================] - 0s 1ms/step - loss: 1.6722 - accuracy: 0.0000e+00 - val_loss: 1.4687 - val_accuracy: 0.0000e+00\n",
            "Epoch 30/35\n",
            "339/339 [==============================] - 1s 1ms/step - loss: 1.3578 - accuracy: 0.0000e+00 - val_loss: 1.1722 - val_accuracy: 0.0000e+00\n",
            "Epoch 31/35\n",
            "339/339 [==============================] - 1s 2ms/step - loss: 1.1162 - accuracy: 0.0000e+00 - val_loss: 0.9602 - val_accuracy: 0.0000e+00\n",
            "Epoch 32/35\n",
            "339/339 [==============================] - 1s 2ms/step - loss: 0.9123 - accuracy: 0.0000e+00 - val_loss: 0.7847 - val_accuracy: 0.0000e+00\n",
            "Epoch 33/35\n",
            "339/339 [==============================] - 1s 2ms/step - loss: 0.7665 - accuracy: 0.0000e+00 - val_loss: 0.6580 - val_accuracy: 0.0000e+00\n",
            "Epoch 34/35\n",
            "339/339 [==============================] - 0s 1ms/step - loss: 0.6917 - accuracy: 0.0000e+00 - val_loss: 0.6271 - val_accuracy: 0.0000e+00\n",
            "Epoch 35/35\n",
            "339/339 [==============================] - 0s 1ms/step - loss: 0.6566 - accuracy: 0.0000e+00 - val_loss: 0.6813 - val_accuracy: 0.0000e+00\n"
          ]
        },
        {
          "output_type": "execute_result",
          "data": {
            "text/plain": [
              "<keras.callbacks.History at 0x7fe56e1cf710>"
            ]
          },
          "metadata": {},
          "execution_count": 31
        }
      ]
    },
    {
      "cell_type": "code",
      "metadata": {
        "colab": {
          "base_uri": "https://localhost:8080/"
        },
        "id": "XSJfJPftH_f_",
        "outputId": "0573c6b2-3dc6-48b4-e994-e7244f79a79f"
      },
      "source": [
        "model.summary()"
      ],
      "execution_count": 32,
      "outputs": [
        {
          "output_type": "stream",
          "name": "stdout",
          "text": [
            "Model: \"sequential_1\"\n",
            "_________________________________________________________________\n",
            "Layer (type)                 Output Shape              Param #   \n",
            "=================================================================\n",
            "dense_3 (Dense)              (None, 12)                132       \n",
            "_________________________________________________________________\n",
            "dense_4 (Dense)              (None, 8)                 104       \n",
            "_________________________________________________________________\n",
            "dense_5 (Dense)              (None, 1)                 9         \n",
            "=================================================================\n",
            "Total params: 245\n",
            "Trainable params: 245\n",
            "Non-trainable params: 0\n",
            "_________________________________________________________________\n"
          ]
        }
      ]
    },
    {
      "cell_type": "markdown",
      "metadata": {
        "id": "jHc-3s2KIYpR"
      },
      "source": [
        "# Conclusion"
      ]
    },
    {
      "cell_type": "code",
      "metadata": {
        "id": "7C89SfYEIG2D"
      },
      "source": [
        "y_pred = model.predict(X_test)"
      ],
      "execution_count": 33,
      "outputs": []
    },
    {
      "cell_type": "code",
      "metadata": {
        "colab": {
          "base_uri": "https://localhost:8080/"
        },
        "id": "F71EtsezIJNj",
        "outputId": "9fa0c1bc-44d1-4db4-fb67-4764bf2cff00"
      },
      "source": [
        "r2_score(y_test,y_pred)"
      ],
      "execution_count": 35,
      "outputs": [
        {
          "output_type": "execute_result",
          "data": {
            "text/plain": [
              "0.996861864275087"
            ]
          },
          "metadata": {},
          "execution_count": 35
        }
      ]
    }
  ]
}